{
  "nbformat": 4,
  "nbformat_minor": 0,
  "metadata": {
    "colab": {
      "provenance": [],
      "authorship_tag": "ABX9TyP7Y/KegFw4afgUtdu0YgUG",
      "include_colab_link": true
    },
    "kernelspec": {
      "name": "ir",
      "display_name": "R"
    },
    "language_info": {
      "name": "R"
    }
  },
  "cells": [
    {
      "cell_type": "markdown",
      "metadata": {
        "id": "view-in-github",
        "colab_type": "text"
      },
      "source": [
        "<a href=\"https://colab.research.google.com/github/Michelle3Laker/PublicModuleWork_O7/blob/main/27Nov_Supervision.ipynb\" target=\"_parent\"><img src=\"https://colab.research.google.com/assets/colab-badge.svg\" alt=\"Open In Colab\"/></a>"
      ]
    },
    {
      "cell_type": "code",
      "execution_count": null,
      "metadata": {
        "colab": {
          "base_uri": "https://localhost:8080/"
        },
        "id": "mQUPbbMog8A8",
        "outputId": "612b26d7-9d46-4afc-edb0-ce65646108d3"
      },
      "outputs": [
        {
          "output_type": "stream",
          "name": "stdout",
          "text": [
            "Hello world\n"
          ]
        }
      ],
      "source": [
        "# Instruction: run this cell!\n",
        "print('Hello world')"
      ]
    },
    {
      "cell_type": "code",
      "source": [
        "print(\"My name is Laker\")"
      ],
      "metadata": {
        "colab": {
          "base_uri": "https://localhost:8080/"
        },
        "id": "Na_ky_iFhaQ2",
        "outputId": "27302e70-e0d5-4f57-8386-e8dd2ecd1872"
      },
      "execution_count": null,
      "outputs": [
        {
          "output_type": "stream",
          "name": "stdout",
          "text": [
            "My name is Laker\n"
          ]
        }
      ]
    },
    {
      "cell_type": "code",
      "source": [
        "print(\"Canis lupus familiaris\")"
      ],
      "metadata": {
        "colab": {
          "base_uri": "https://localhost:8080/"
        },
        "id": "aDn8DgYqhfpB",
        "outputId": "ce5681e7-93ac-4875-a085-b7de9b5b03ec"
      },
      "execution_count": null,
      "outputs": [
        {
          "output_type": "stream",
          "name": "stdout",
          "text": [
            "Canis lupus familiaris\n"
          ]
        }
      ]
    },
    {
      "cell_type": "code",
      "source": [
        "# This is a little interactive quiz\n",
        "correct = 'rhino'\n",
        "clues = ['It is grey.', 'It has a horn.', 'It is never seen in Cambridge',\n",
        "         'There are five species White, Black, Javan, Sumatran and Indian',\n",
        "         'Name starts with \"R\"', 'Name ends with \"O\"',\n",
        "         'Was the subject of a famous print by Albrecht Dürer']\n",
        "while(clues):\n",
        "    answer = input(\"What animal is Anglia Ruskin's mascot?> \")\n",
        "    answer = answer.lower()\n",
        "    if answer == correct:\n",
        "        print('Well done!', correct.capitalize(), 'is the correct answer.')\n",
        "        break;\n",
        "    else:\n",
        "        clue = clues.pop(0) # remove the first clue\n",
        "        print('Wrong! Here is a clue: \"' + clue + '\". Try again!')\n",
        "if not clues:\n",
        "    print('Sorry GAME OVER to many trys!')\n",
        "    print('The answer is', correct.upper() + '!')"
      ],
      "metadata": {
        "colab": {
          "base_uri": "https://localhost:8080/"
        },
        "id": "LuRI15xEhuHY",
        "outputId": "200a6978-35ce-4cee-be0e-b6d7d3d9e404"
      },
      "execution_count": null,
      "outputs": [
        {
          "output_type": "stream",
          "name": "stdout",
          "text": [
            "What animal is Anglia Ruskin's mascot?> Flamingo\n",
            "Wrong! Here is a clue: \"It is grey.\". Try again!\n",
            "What animal is Anglia Ruskin's mascot?> Rhino\n",
            "Well done! Rhino is the correct answer.\n"
          ]
        }
      ]
    },
    {
      "cell_type": "code",
      "source": [
        "# you can get images from the web in Python and display them\n",
        "from IPython.display import Image\n",
        "from IPython.core.display import HTML\n",
        "durer_rhino_url = 'https://upload.wikimedia.org/wikipedia/commons/thumb/b/bc/' \\\n",
        "                  'The_Rhinoceros_%28NGA_1964.8.697%29_enhanced.png/' \\\n",
        "                  '304px-The_Rhinoceros_%28NGA_1964.8.697%29_enhanced.png'\n",
        "Image(url= durer_rhino_url)"
      ],
      "metadata": {
        "colab": {
          "base_uri": "https://localhost:8080/",
          "height": 261
        },
        "id": "1KfYlQjhiEec",
        "outputId": "14b21ee4-311d-4c09-87d4-30656d93a8a8"
      },
      "execution_count": null,
      "outputs": [
        {
          "output_type": "execute_result",
          "data": {
            "text/html": [
              "<img src=\"https://upload.wikimedia.org/wikipedia/commons/thumb/b/bc/The_Rhinoceros_%28NGA_1964.8.697%29_enhanced.png/304px-The_Rhinoceros_%28NGA_1964.8.697%29_enhanced.png\"/>"
            ],
            "text/plain": [
              "<IPython.core.display.Image object>"
            ]
          },
          "metadata": {},
          "execution_count": 5
        }
      ]
    },
    {
      "cell_type": "code",
      "source": [
        "print(\"This line will print my name! My name is Laker\")"
      ],
      "metadata": {
        "colab": {
          "base_uri": "https://localhost:8080/"
        },
        "id": "baUOHHXyiV2P",
        "outputId": "bd4d0bcf-2acf-4fe2-88ed-2bf883a32120"
      },
      "execution_count": null,
      "outputs": [
        {
          "output_type": "stream",
          "name": "stdout",
          "text": [
            "This line will print my name! My name is Laker\n"
          ]
        }
      ]
    },
    {
      "cell_type": "code",
      "source": [
        "AQ = 'https://raw.githubusercontent.com/camgenomicmedicine/GMO7-Jupyter/main/data/anscombe-quartet.csv'"
      ],
      "metadata": {
        "id": "KL_8mUd32NfP"
      },
      "execution_count": 7,
      "outputs": []
    },
    {
      "cell_type": "code",
      "source": [
        "import pandas as pd\n"
      ],
      "metadata": {
        "id": "DP1Br6OL24gL"
      },
      "execution_count": 12,
      "outputs": []
    },
    {
      "cell_type": "code",
      "source": [
        "AQ ='https://raw.githubusercontent.com/camgenomicmedicine/GMO7-Jupyter/main/data/anscombe-quartet.csv'"
      ],
      "metadata": {
        "id": "8mSCwamk27-o"
      },
      "execution_count": 13,
      "outputs": []
    },
    {
      "cell_type": "code",
      "source": [
        "dataAQ = pd.read_csv(AQ)"
      ],
      "metadata": {
        "id": "NIZoAvAe3KDi"
      },
      "execution_count": 14,
      "outputs": []
    },
    {
      "cell_type": "code",
      "source": [
        "dataAQ"
      ],
      "metadata": {
        "id": "uvPaZ5TN3Y7v",
        "outputId": "5691e6be-f1d8-49d4-e2ae-d875e48c6634",
        "colab": {
          "base_uri": "https://localhost:8080/",
          "height": 1000
        }
      },
      "execution_count": 16,
      "outputs": [
        {
          "output_type": "execute_result",
          "data": {
            "text/plain": [
              "   dataset     x      y\n",
              "0        I  10.0   8.04\n",
              "1        I   8.0   6.95\n",
              "2        I  13.0   7.58\n",
              "3        I   9.0   8.81\n",
              "4        I  11.0   8.33\n",
              "5        I  14.0   9.96\n",
              "6        I   6.0   7.24\n",
              "7        I   4.0   4.26\n",
              "8        I  12.0  10.84\n",
              "9        I   7.0   4.82\n",
              "10       I   5.0   5.68\n",
              "11      II  10.0   9.14\n",
              "12      II   8.0   8.14\n",
              "13      II  13.0   8.74\n",
              "14      II   9.0   8.77\n",
              "15      II  11.0   9.26\n",
              "16      II  14.0   8.10\n",
              "17      II   6.0   6.13\n",
              "18      II   4.0   3.10\n",
              "19      II  12.0   9.13\n",
              "20      II   7.0   7.26\n",
              "21      II   5.0   4.74\n",
              "22     III  10.0   7.46\n",
              "23     III   8.0   6.77\n",
              "24     III  13.0  12.74\n",
              "25     III   9.0   7.11\n",
              "26     III  11.0   7.81\n",
              "27     III  14.0   8.84\n",
              "28     III   6.0   6.08\n",
              "29     III   4.0   5.39\n",
              "30     III  12.0   8.15\n",
              "31     III   7.0   6.42\n",
              "32     III   5.0   5.73\n",
              "33      IV   8.0   6.58\n",
              "34      IV   8.0   5.76\n",
              "35      IV   8.0   7.71\n",
              "36      IV   8.0   8.84\n",
              "37      IV   8.0   8.47\n",
              "38      IV   8.0   7.04\n",
              "39      IV   8.0   5.25\n",
              "40      IV  19.0  12.50\n",
              "41      IV   8.0   5.56\n",
              "42      IV   8.0   7.91\n",
              "43      IV   8.0   6.89"
            ],
            "text/html": [
              "\n",
              "  <div id=\"df-2edfe2dc-0bc4-4d11-8927-3485b9bda102\" class=\"colab-df-container\">\n",
              "    <div>\n",
              "<style scoped>\n",
              "    .dataframe tbody tr th:only-of-type {\n",
              "        vertical-align: middle;\n",
              "    }\n",
              "\n",
              "    .dataframe tbody tr th {\n",
              "        vertical-align: top;\n",
              "    }\n",
              "\n",
              "    .dataframe thead th {\n",
              "        text-align: right;\n",
              "    }\n",
              "</style>\n",
              "<table border=\"1\" class=\"dataframe\">\n",
              "  <thead>\n",
              "    <tr style=\"text-align: right;\">\n",
              "      <th></th>\n",
              "      <th>dataset</th>\n",
              "      <th>x</th>\n",
              "      <th>y</th>\n",
              "    </tr>\n",
              "  </thead>\n",
              "  <tbody>\n",
              "    <tr>\n",
              "      <th>0</th>\n",
              "      <td>I</td>\n",
              "      <td>10.0</td>\n",
              "      <td>8.04</td>\n",
              "    </tr>\n",
              "    <tr>\n",
              "      <th>1</th>\n",
              "      <td>I</td>\n",
              "      <td>8.0</td>\n",
              "      <td>6.95</td>\n",
              "    </tr>\n",
              "    <tr>\n",
              "      <th>2</th>\n",
              "      <td>I</td>\n",
              "      <td>13.0</td>\n",
              "      <td>7.58</td>\n",
              "    </tr>\n",
              "    <tr>\n",
              "      <th>3</th>\n",
              "      <td>I</td>\n",
              "      <td>9.0</td>\n",
              "      <td>8.81</td>\n",
              "    </tr>\n",
              "    <tr>\n",
              "      <th>4</th>\n",
              "      <td>I</td>\n",
              "      <td>11.0</td>\n",
              "      <td>8.33</td>\n",
              "    </tr>\n",
              "    <tr>\n",
              "      <th>5</th>\n",
              "      <td>I</td>\n",
              "      <td>14.0</td>\n",
              "      <td>9.96</td>\n",
              "    </tr>\n",
              "    <tr>\n",
              "      <th>6</th>\n",
              "      <td>I</td>\n",
              "      <td>6.0</td>\n",
              "      <td>7.24</td>\n",
              "    </tr>\n",
              "    <tr>\n",
              "      <th>7</th>\n",
              "      <td>I</td>\n",
              "      <td>4.0</td>\n",
              "      <td>4.26</td>\n",
              "    </tr>\n",
              "    <tr>\n",
              "      <th>8</th>\n",
              "      <td>I</td>\n",
              "      <td>12.0</td>\n",
              "      <td>10.84</td>\n",
              "    </tr>\n",
              "    <tr>\n",
              "      <th>9</th>\n",
              "      <td>I</td>\n",
              "      <td>7.0</td>\n",
              "      <td>4.82</td>\n",
              "    </tr>\n",
              "    <tr>\n",
              "      <th>10</th>\n",
              "      <td>I</td>\n",
              "      <td>5.0</td>\n",
              "      <td>5.68</td>\n",
              "    </tr>\n",
              "    <tr>\n",
              "      <th>11</th>\n",
              "      <td>II</td>\n",
              "      <td>10.0</td>\n",
              "      <td>9.14</td>\n",
              "    </tr>\n",
              "    <tr>\n",
              "      <th>12</th>\n",
              "      <td>II</td>\n",
              "      <td>8.0</td>\n",
              "      <td>8.14</td>\n",
              "    </tr>\n",
              "    <tr>\n",
              "      <th>13</th>\n",
              "      <td>II</td>\n",
              "      <td>13.0</td>\n",
              "      <td>8.74</td>\n",
              "    </tr>\n",
              "    <tr>\n",
              "      <th>14</th>\n",
              "      <td>II</td>\n",
              "      <td>9.0</td>\n",
              "      <td>8.77</td>\n",
              "    </tr>\n",
              "    <tr>\n",
              "      <th>15</th>\n",
              "      <td>II</td>\n",
              "      <td>11.0</td>\n",
              "      <td>9.26</td>\n",
              "    </tr>\n",
              "    <tr>\n",
              "      <th>16</th>\n",
              "      <td>II</td>\n",
              "      <td>14.0</td>\n",
              "      <td>8.10</td>\n",
              "    </tr>\n",
              "    <tr>\n",
              "      <th>17</th>\n",
              "      <td>II</td>\n",
              "      <td>6.0</td>\n",
              "      <td>6.13</td>\n",
              "    </tr>\n",
              "    <tr>\n",
              "      <th>18</th>\n",
              "      <td>II</td>\n",
              "      <td>4.0</td>\n",
              "      <td>3.10</td>\n",
              "    </tr>\n",
              "    <tr>\n",
              "      <th>19</th>\n",
              "      <td>II</td>\n",
              "      <td>12.0</td>\n",
              "      <td>9.13</td>\n",
              "    </tr>\n",
              "    <tr>\n",
              "      <th>20</th>\n",
              "      <td>II</td>\n",
              "      <td>7.0</td>\n",
              "      <td>7.26</td>\n",
              "    </tr>\n",
              "    <tr>\n",
              "      <th>21</th>\n",
              "      <td>II</td>\n",
              "      <td>5.0</td>\n",
              "      <td>4.74</td>\n",
              "    </tr>\n",
              "    <tr>\n",
              "      <th>22</th>\n",
              "      <td>III</td>\n",
              "      <td>10.0</td>\n",
              "      <td>7.46</td>\n",
              "    </tr>\n",
              "    <tr>\n",
              "      <th>23</th>\n",
              "      <td>III</td>\n",
              "      <td>8.0</td>\n",
              "      <td>6.77</td>\n",
              "    </tr>\n",
              "    <tr>\n",
              "      <th>24</th>\n",
              "      <td>III</td>\n",
              "      <td>13.0</td>\n",
              "      <td>12.74</td>\n",
              "    </tr>\n",
              "    <tr>\n",
              "      <th>25</th>\n",
              "      <td>III</td>\n",
              "      <td>9.0</td>\n",
              "      <td>7.11</td>\n",
              "    </tr>\n",
              "    <tr>\n",
              "      <th>26</th>\n",
              "      <td>III</td>\n",
              "      <td>11.0</td>\n",
              "      <td>7.81</td>\n",
              "    </tr>\n",
              "    <tr>\n",
              "      <th>27</th>\n",
              "      <td>III</td>\n",
              "      <td>14.0</td>\n",
              "      <td>8.84</td>\n",
              "    </tr>\n",
              "    <tr>\n",
              "      <th>28</th>\n",
              "      <td>III</td>\n",
              "      <td>6.0</td>\n",
              "      <td>6.08</td>\n",
              "    </tr>\n",
              "    <tr>\n",
              "      <th>29</th>\n",
              "      <td>III</td>\n",
              "      <td>4.0</td>\n",
              "      <td>5.39</td>\n",
              "    </tr>\n",
              "    <tr>\n",
              "      <th>30</th>\n",
              "      <td>III</td>\n",
              "      <td>12.0</td>\n",
              "      <td>8.15</td>\n",
              "    </tr>\n",
              "    <tr>\n",
              "      <th>31</th>\n",
              "      <td>III</td>\n",
              "      <td>7.0</td>\n",
              "      <td>6.42</td>\n",
              "    </tr>\n",
              "    <tr>\n",
              "      <th>32</th>\n",
              "      <td>III</td>\n",
              "      <td>5.0</td>\n",
              "      <td>5.73</td>\n",
              "    </tr>\n",
              "    <tr>\n",
              "      <th>33</th>\n",
              "      <td>IV</td>\n",
              "      <td>8.0</td>\n",
              "      <td>6.58</td>\n",
              "    </tr>\n",
              "    <tr>\n",
              "      <th>34</th>\n",
              "      <td>IV</td>\n",
              "      <td>8.0</td>\n",
              "      <td>5.76</td>\n",
              "    </tr>\n",
              "    <tr>\n",
              "      <th>35</th>\n",
              "      <td>IV</td>\n",
              "      <td>8.0</td>\n",
              "      <td>7.71</td>\n",
              "    </tr>\n",
              "    <tr>\n",
              "      <th>36</th>\n",
              "      <td>IV</td>\n",
              "      <td>8.0</td>\n",
              "      <td>8.84</td>\n",
              "    </tr>\n",
              "    <tr>\n",
              "      <th>37</th>\n",
              "      <td>IV</td>\n",
              "      <td>8.0</td>\n",
              "      <td>8.47</td>\n",
              "    </tr>\n",
              "    <tr>\n",
              "      <th>38</th>\n",
              "      <td>IV</td>\n",
              "      <td>8.0</td>\n",
              "      <td>7.04</td>\n",
              "    </tr>\n",
              "    <tr>\n",
              "      <th>39</th>\n",
              "      <td>IV</td>\n",
              "      <td>8.0</td>\n",
              "      <td>5.25</td>\n",
              "    </tr>\n",
              "    <tr>\n",
              "      <th>40</th>\n",
              "      <td>IV</td>\n",
              "      <td>19.0</td>\n",
              "      <td>12.50</td>\n",
              "    </tr>\n",
              "    <tr>\n",
              "      <th>41</th>\n",
              "      <td>IV</td>\n",
              "      <td>8.0</td>\n",
              "      <td>5.56</td>\n",
              "    </tr>\n",
              "    <tr>\n",
              "      <th>42</th>\n",
              "      <td>IV</td>\n",
              "      <td>8.0</td>\n",
              "      <td>7.91</td>\n",
              "    </tr>\n",
              "    <tr>\n",
              "      <th>43</th>\n",
              "      <td>IV</td>\n",
              "      <td>8.0</td>\n",
              "      <td>6.89</td>\n",
              "    </tr>\n",
              "  </tbody>\n",
              "</table>\n",
              "</div>\n",
              "    <div class=\"colab-df-buttons\">\n",
              "\n",
              "  <div class=\"colab-df-container\">\n",
              "    <button class=\"colab-df-convert\" onclick=\"convertToInteractive('df-2edfe2dc-0bc4-4d11-8927-3485b9bda102')\"\n",
              "            title=\"Convert this dataframe to an interactive table.\"\n",
              "            style=\"display:none;\">\n",
              "\n",
              "  <svg xmlns=\"http://www.w3.org/2000/svg\" height=\"24px\" viewBox=\"0 -960 960 960\">\n",
              "    <path d=\"M120-120v-720h720v720H120Zm60-500h600v-160H180v160Zm220 220h160v-160H400v160Zm0 220h160v-160H400v160ZM180-400h160v-160H180v160Zm440 0h160v-160H620v160ZM180-180h160v-160H180v160Zm440 0h160v-160H620v160Z\"/>\n",
              "  </svg>\n",
              "    </button>\n",
              "\n",
              "  <style>\n",
              "    .colab-df-container {\n",
              "      display:flex;\n",
              "      gap: 12px;\n",
              "    }\n",
              "\n",
              "    .colab-df-convert {\n",
              "      background-color: #E8F0FE;\n",
              "      border: none;\n",
              "      border-radius: 50%;\n",
              "      cursor: pointer;\n",
              "      display: none;\n",
              "      fill: #1967D2;\n",
              "      height: 32px;\n",
              "      padding: 0 0 0 0;\n",
              "      width: 32px;\n",
              "    }\n",
              "\n",
              "    .colab-df-convert:hover {\n",
              "      background-color: #E2EBFA;\n",
              "      box-shadow: 0px 1px 2px rgba(60, 64, 67, 0.3), 0px 1px 3px 1px rgba(60, 64, 67, 0.15);\n",
              "      fill: #174EA6;\n",
              "    }\n",
              "\n",
              "    .colab-df-buttons div {\n",
              "      margin-bottom: 4px;\n",
              "    }\n",
              "\n",
              "    [theme=dark] .colab-df-convert {\n",
              "      background-color: #3B4455;\n",
              "      fill: #D2E3FC;\n",
              "    }\n",
              "\n",
              "    [theme=dark] .colab-df-convert:hover {\n",
              "      background-color: #434B5C;\n",
              "      box-shadow: 0px 1px 3px 1px rgba(0, 0, 0, 0.15);\n",
              "      filter: drop-shadow(0px 1px 2px rgba(0, 0, 0, 0.3));\n",
              "      fill: #FFFFFF;\n",
              "    }\n",
              "  </style>\n",
              "\n",
              "    <script>\n",
              "      const buttonEl =\n",
              "        document.querySelector('#df-2edfe2dc-0bc4-4d11-8927-3485b9bda102 button.colab-df-convert');\n",
              "      buttonEl.style.display =\n",
              "        google.colab.kernel.accessAllowed ? 'block' : 'none';\n",
              "\n",
              "      async function convertToInteractive(key) {\n",
              "        const element = document.querySelector('#df-2edfe2dc-0bc4-4d11-8927-3485b9bda102');\n",
              "        const dataTable =\n",
              "          await google.colab.kernel.invokeFunction('convertToInteractive',\n",
              "                                                    [key], {});\n",
              "        if (!dataTable) return;\n",
              "\n",
              "        const docLinkHtml = 'Like what you see? Visit the ' +\n",
              "          '<a target=\"_blank\" href=https://colab.research.google.com/notebooks/data_table.ipynb>data table notebook</a>'\n",
              "          + ' to learn more about interactive tables.';\n",
              "        element.innerHTML = '';\n",
              "        dataTable['output_type'] = 'display_data';\n",
              "        await google.colab.output.renderOutput(dataTable, element);\n",
              "        const docLink = document.createElement('div');\n",
              "        docLink.innerHTML = docLinkHtml;\n",
              "        element.appendChild(docLink);\n",
              "      }\n",
              "    </script>\n",
              "  </div>\n",
              "\n",
              "\n",
              "<div id=\"df-c8eedac4-a86c-4dc9-925e-e1539efb3928\">\n",
              "  <button class=\"colab-df-quickchart\" onclick=\"quickchart('df-c8eedac4-a86c-4dc9-925e-e1539efb3928')\"\n",
              "            title=\"Suggest charts\"\n",
              "            style=\"display:none;\">\n",
              "\n",
              "<svg xmlns=\"http://www.w3.org/2000/svg\" height=\"24px\"viewBox=\"0 0 24 24\"\n",
              "     width=\"24px\">\n",
              "    <g>\n",
              "        <path d=\"M19 3H5c-1.1 0-2 .9-2 2v14c0 1.1.9 2 2 2h14c1.1 0 2-.9 2-2V5c0-1.1-.9-2-2-2zM9 17H7v-7h2v7zm4 0h-2V7h2v10zm4 0h-2v-4h2v4z\"/>\n",
              "    </g>\n",
              "</svg>\n",
              "  </button>\n",
              "\n",
              "<style>\n",
              "  .colab-df-quickchart {\n",
              "      --bg-color: #E8F0FE;\n",
              "      --fill-color: #1967D2;\n",
              "      --hover-bg-color: #E2EBFA;\n",
              "      --hover-fill-color: #174EA6;\n",
              "      --disabled-fill-color: #AAA;\n",
              "      --disabled-bg-color: #DDD;\n",
              "  }\n",
              "\n",
              "  [theme=dark] .colab-df-quickchart {\n",
              "      --bg-color: #3B4455;\n",
              "      --fill-color: #D2E3FC;\n",
              "      --hover-bg-color: #434B5C;\n",
              "      --hover-fill-color: #FFFFFF;\n",
              "      --disabled-bg-color: #3B4455;\n",
              "      --disabled-fill-color: #666;\n",
              "  }\n",
              "\n",
              "  .colab-df-quickchart {\n",
              "    background-color: var(--bg-color);\n",
              "    border: none;\n",
              "    border-radius: 50%;\n",
              "    cursor: pointer;\n",
              "    display: none;\n",
              "    fill: var(--fill-color);\n",
              "    height: 32px;\n",
              "    padding: 0;\n",
              "    width: 32px;\n",
              "  }\n",
              "\n",
              "  .colab-df-quickchart:hover {\n",
              "    background-color: var(--hover-bg-color);\n",
              "    box-shadow: 0 1px 2px rgba(60, 64, 67, 0.3), 0 1px 3px 1px rgba(60, 64, 67, 0.15);\n",
              "    fill: var(--button-hover-fill-color);\n",
              "  }\n",
              "\n",
              "  .colab-df-quickchart-complete:disabled,\n",
              "  .colab-df-quickchart-complete:disabled:hover {\n",
              "    background-color: var(--disabled-bg-color);\n",
              "    fill: var(--disabled-fill-color);\n",
              "    box-shadow: none;\n",
              "  }\n",
              "\n",
              "  .colab-df-spinner {\n",
              "    border: 2px solid var(--fill-color);\n",
              "    border-color: transparent;\n",
              "    border-bottom-color: var(--fill-color);\n",
              "    animation:\n",
              "      spin 1s steps(1) infinite;\n",
              "  }\n",
              "\n",
              "  @keyframes spin {\n",
              "    0% {\n",
              "      border-color: transparent;\n",
              "      border-bottom-color: var(--fill-color);\n",
              "      border-left-color: var(--fill-color);\n",
              "    }\n",
              "    20% {\n",
              "      border-color: transparent;\n",
              "      border-left-color: var(--fill-color);\n",
              "      border-top-color: var(--fill-color);\n",
              "    }\n",
              "    30% {\n",
              "      border-color: transparent;\n",
              "      border-left-color: var(--fill-color);\n",
              "      border-top-color: var(--fill-color);\n",
              "      border-right-color: var(--fill-color);\n",
              "    }\n",
              "    40% {\n",
              "      border-color: transparent;\n",
              "      border-right-color: var(--fill-color);\n",
              "      border-top-color: var(--fill-color);\n",
              "    }\n",
              "    60% {\n",
              "      border-color: transparent;\n",
              "      border-right-color: var(--fill-color);\n",
              "    }\n",
              "    80% {\n",
              "      border-color: transparent;\n",
              "      border-right-color: var(--fill-color);\n",
              "      border-bottom-color: var(--fill-color);\n",
              "    }\n",
              "    90% {\n",
              "      border-color: transparent;\n",
              "      border-bottom-color: var(--fill-color);\n",
              "    }\n",
              "  }\n",
              "</style>\n",
              "\n",
              "  <script>\n",
              "    async function quickchart(key) {\n",
              "      const quickchartButtonEl =\n",
              "        document.querySelector('#' + key + ' button');\n",
              "      quickchartButtonEl.disabled = true;  // To prevent multiple clicks.\n",
              "      quickchartButtonEl.classList.add('colab-df-spinner');\n",
              "      try {\n",
              "        const charts = await google.colab.kernel.invokeFunction(\n",
              "            'suggestCharts', [key], {});\n",
              "      } catch (error) {\n",
              "        console.error('Error during call to suggestCharts:', error);\n",
              "      }\n",
              "      quickchartButtonEl.classList.remove('colab-df-spinner');\n",
              "      quickchartButtonEl.classList.add('colab-df-quickchart-complete');\n",
              "    }\n",
              "    (() => {\n",
              "      let quickchartButtonEl =\n",
              "        document.querySelector('#df-c8eedac4-a86c-4dc9-925e-e1539efb3928 button');\n",
              "      quickchartButtonEl.style.display =\n",
              "        google.colab.kernel.accessAllowed ? 'block' : 'none';\n",
              "    })();\n",
              "  </script>\n",
              "</div>\n",
              "    </div>\n",
              "  </div>\n"
            ]
          },
          "metadata": {},
          "execution_count": 16
        }
      ]
    },
    {
      "cell_type": "code",
      "source": [
        "%load_ext rpy2.ipython"
      ],
      "metadata": {
        "id": "KDXy12xn4yIA"
      },
      "execution_count": 19,
      "outputs": []
    },
    {
      "cell_type": "markdown",
      "source": [
        "This was done to let me run R code before i changed the entire notebook's runtime to R"
      ],
      "metadata": {
        "id": "kl3EBoKJ6GKm"
      }
    },
    {
      "cell_type": "code",
      "source": [
        "%%R\n",
        "AQ <- read.csv(\"https://raw.githubusercontent.com/camgenomicmedicine/GMO7-Jupyter/main/data/anscombe-quartet.csv\")\n"
      ],
      "metadata": {
        "id": "ZuglSXqR4_XC"
      },
      "execution_count": 20,
      "outputs": []
    },
    {
      "cell_type": "code",
      "source": [
        "%%R\n",
        "head(AQ)"
      ],
      "metadata": {
        "id": "YWVZUqVO5Odf",
        "outputId": "64b96f68-56c0-4118-c0dc-ba41e95e654b",
        "colab": {
          "base_uri": "https://localhost:8080/"
        }
      },
      "execution_count": 21,
      "outputs": [
        {
          "output_type": "stream",
          "name": "stdout",
          "text": [
            "  dataset  x    y\n",
            "1       I 10 8.04\n",
            "2       I  8 6.95\n",
            "3       I 13 7.58\n",
            "4       I  9 8.81\n",
            "5       I 11 8.33\n",
            "6       I 14 9.96\n"
          ]
        }
      ]
    },
    {
      "cell_type": "markdown",
      "source": [
        "From this point on, the Runtime has been changed to R"
      ],
      "metadata": {
        "id": "xgL-MzTf6OJe"
      }
    },
    {
      "cell_type": "code",
      "source": [
        "AQ <- read.csv(\"https://raw.githubusercontent.com/camgenomicmedicine/GMO7-Jupyter/main/data/anscombe-quartet.csv\")"
      ],
      "metadata": {
        "id": "vLz1LgJ_5xcZ"
      },
      "execution_count": 3,
      "outputs": []
    },
    {
      "cell_type": "markdown",
      "source": [],
      "metadata": {
        "id": "q5DfpYFv6NN3"
      }
    },
    {
      "cell_type": "code",
      "source": [
        "head(AQ)"
      ],
      "metadata": {
        "id": "NiG30uow57dF",
        "outputId": "62a37788-8f92-4166-a305-cfb877430bfc",
        "colab": {
          "base_uri": "https://localhost:8080/",
          "height": 286
        }
      },
      "execution_count": 2,
      "outputs": [
        {
          "output_type": "display_data",
          "data": {
            "text/html": [
              "<table class=\"dataframe\">\n",
              "<caption>A data.frame: 6 × 3</caption>\n",
              "<thead>\n",
              "\t<tr><th></th><th scope=col>dataset</th><th scope=col>x</th><th scope=col>y</th></tr>\n",
              "\t<tr><th></th><th scope=col>&lt;chr&gt;</th><th scope=col>&lt;dbl&gt;</th><th scope=col>&lt;dbl&gt;</th></tr>\n",
              "</thead>\n",
              "<tbody>\n",
              "\t<tr><th scope=row>1</th><td>I</td><td>10</td><td>8.04</td></tr>\n",
              "\t<tr><th scope=row>2</th><td>I</td><td> 8</td><td>6.95</td></tr>\n",
              "\t<tr><th scope=row>3</th><td>I</td><td>13</td><td>7.58</td></tr>\n",
              "\t<tr><th scope=row>4</th><td>I</td><td> 9</td><td>8.81</td></tr>\n",
              "\t<tr><th scope=row>5</th><td>I</td><td>11</td><td>8.33</td></tr>\n",
              "\t<tr><th scope=row>6</th><td>I</td><td>14</td><td>9.96</td></tr>\n",
              "</tbody>\n",
              "</table>\n"
            ],
            "text/markdown": "\nA data.frame: 6 × 3\n\n| <!--/--> | dataset &lt;chr&gt; | x &lt;dbl&gt; | y &lt;dbl&gt; |\n|---|---|---|---|\n| 1 | I | 10 | 8.04 |\n| 2 | I |  8 | 6.95 |\n| 3 | I | 13 | 7.58 |\n| 4 | I |  9 | 8.81 |\n| 5 | I | 11 | 8.33 |\n| 6 | I | 14 | 9.96 |\n\n",
            "text/latex": "A data.frame: 6 × 3\n\\begin{tabular}{r|lll}\n  & dataset & x & y\\\\\n  & <chr> & <dbl> & <dbl>\\\\\n\\hline\n\t1 & I & 10 & 8.04\\\\\n\t2 & I &  8 & 6.95\\\\\n\t3 & I & 13 & 7.58\\\\\n\t4 & I &  9 & 8.81\\\\\n\t5 & I & 11 & 8.33\\\\\n\t6 & I & 14 & 9.96\\\\\n\\end{tabular}\n",
            "text/plain": [
              "  dataset x  y   \n",
              "1 I       10 8.04\n",
              "2 I        8 6.95\n",
              "3 I       13 7.58\n",
              "4 I        9 8.81\n",
              "5 I       11 8.33\n",
              "6 I       14 9.96"
            ]
          },
          "metadata": {}
        }
      ]
    },
    {
      "cell_type": "code",
      "source": [
        "library(tidyverse)\n"
      ],
      "metadata": {
        "id": "9Wm-2tSl9Qd5",
        "outputId": "3808246a-765f-42d2-aa6f-f193c5efda81",
        "colab": {
          "base_uri": "https://localhost:8080/"
        }
      },
      "execution_count": 13,
      "outputs": [
        {
          "output_type": "stream",
          "name": "stderr",
          "text": [
            "── \u001b[1mAttaching core tidyverse packages\u001b[22m ──────────────────────── tidyverse 2.0.0 ──\n",
            "\u001b[32m✔\u001b[39m \u001b[34mdplyr    \u001b[39m 1.1.3     \u001b[32m✔\u001b[39m \u001b[34mreadr    \u001b[39m 2.1.4\n",
            "\u001b[32m✔\u001b[39m \u001b[34mforcats  \u001b[39m 1.0.0     \u001b[32m✔\u001b[39m \u001b[34mstringr  \u001b[39m 1.5.0\n",
            "\u001b[32m✔\u001b[39m \u001b[34mggplot2  \u001b[39m 3.4.4     \u001b[32m✔\u001b[39m \u001b[34mtibble   \u001b[39m 3.2.1\n",
            "\u001b[32m✔\u001b[39m \u001b[34mlubridate\u001b[39m 1.9.3     \u001b[32m✔\u001b[39m \u001b[34mtidyr    \u001b[39m 1.3.0\n",
            "\u001b[32m✔\u001b[39m \u001b[34mpurrr    \u001b[39m 1.0.2     \n",
            "── \u001b[1mConflicts\u001b[22m ────────────────────────────────────────── tidyverse_conflicts() ──\n",
            "\u001b[31m✖\u001b[39m \u001b[34mdplyr\u001b[39m::\u001b[32mfilter()\u001b[39m masks \u001b[34mstats\u001b[39m::filter()\n",
            "\u001b[31m✖\u001b[39m \u001b[34mdplyr\u001b[39m::\u001b[32mlag()\u001b[39m    masks \u001b[34mstats\u001b[39m::lag()\n",
            "\u001b[36mℹ\u001b[39m Use the conflicted package (\u001b[3m\u001b[34m<http://conflicted.r-lib.org/>\u001b[39m\u001b[23m) to force all conflicts to become errors\n"
          ]
        }
      ]
    },
    {
      "cell_type": "code",
      "source": [
        "filter(AQ, dataset == \"I\")"
      ],
      "metadata": {
        "id": "I2zGtKJn_sqH",
        "outputId": "1e0a3571-0478-4e3c-8084-f0c74e1e9955",
        "colab": {
          "base_uri": "https://localhost:8080/",
          "height": 443
        }
      },
      "execution_count": 14,
      "outputs": [
        {
          "output_type": "display_data",
          "data": {
            "text/html": [
              "<table class=\"dataframe\">\n",
              "<caption>A data.frame: 11 × 3</caption>\n",
              "<thead>\n",
              "\t<tr><th scope=col>dataset</th><th scope=col>x</th><th scope=col>y</th></tr>\n",
              "\t<tr><th scope=col>&lt;chr&gt;</th><th scope=col>&lt;dbl&gt;</th><th scope=col>&lt;dbl&gt;</th></tr>\n",
              "</thead>\n",
              "<tbody>\n",
              "\t<tr><td>I</td><td>10</td><td> 8.04</td></tr>\n",
              "\t<tr><td>I</td><td> 8</td><td> 6.95</td></tr>\n",
              "\t<tr><td>I</td><td>13</td><td> 7.58</td></tr>\n",
              "\t<tr><td>I</td><td> 9</td><td> 8.81</td></tr>\n",
              "\t<tr><td>I</td><td>11</td><td> 8.33</td></tr>\n",
              "\t<tr><td>I</td><td>14</td><td> 9.96</td></tr>\n",
              "\t<tr><td>I</td><td> 6</td><td> 7.24</td></tr>\n",
              "\t<tr><td>I</td><td> 4</td><td> 4.26</td></tr>\n",
              "\t<tr><td>I</td><td>12</td><td>10.84</td></tr>\n",
              "\t<tr><td>I</td><td> 7</td><td> 4.82</td></tr>\n",
              "\t<tr><td>I</td><td> 5</td><td> 5.68</td></tr>\n",
              "</tbody>\n",
              "</table>\n"
            ],
            "text/markdown": "\nA data.frame: 11 × 3\n\n| dataset &lt;chr&gt; | x &lt;dbl&gt; | y &lt;dbl&gt; |\n|---|---|---|\n| I | 10 |  8.04 |\n| I |  8 |  6.95 |\n| I | 13 |  7.58 |\n| I |  9 |  8.81 |\n| I | 11 |  8.33 |\n| I | 14 |  9.96 |\n| I |  6 |  7.24 |\n| I |  4 |  4.26 |\n| I | 12 | 10.84 |\n| I |  7 |  4.82 |\n| I |  5 |  5.68 |\n\n",
            "text/latex": "A data.frame: 11 × 3\n\\begin{tabular}{lll}\n dataset & x & y\\\\\n <chr> & <dbl> & <dbl>\\\\\n\\hline\n\t I & 10 &  8.04\\\\\n\t I &  8 &  6.95\\\\\n\t I & 13 &  7.58\\\\\n\t I &  9 &  8.81\\\\\n\t I & 11 &  8.33\\\\\n\t I & 14 &  9.96\\\\\n\t I &  6 &  7.24\\\\\n\t I &  4 &  4.26\\\\\n\t I & 12 & 10.84\\\\\n\t I &  7 &  4.82\\\\\n\t I &  5 &  5.68\\\\\n\\end{tabular}\n",
            "text/plain": [
              "   dataset x  y    \n",
              "1  I       10  8.04\n",
              "2  I        8  6.95\n",
              "3  I       13  7.58\n",
              "4  I        9  8.81\n",
              "5  I       11  8.33\n",
              "6  I       14  9.96\n",
              "7  I        6  7.24\n",
              "8  I        4  4.26\n",
              "9  I       12 10.84\n",
              "10 I        7  4.82\n",
              "11 I        5  5.68"
            ]
          },
          "metadata": {}
        }
      ]
    },
    {
      "cell_type": "code",
      "source": [
        "library(ggplot2)"
      ],
      "metadata": {
        "id": "xzR6h3Dv_xAv"
      },
      "execution_count": 15,
      "outputs": []
    },
    {
      "cell_type": "code",
      "source": [
        "library(patchwork)"
      ],
      "metadata": {
        "id": "cxT2vUdKDV1A",
        "outputId": "bbda56f0-8456-4122-d152-005d48f3c75f",
        "colab": {
          "base_uri": "https://localhost:8080/",
          "height": 141
        }
      },
      "execution_count": 35,
      "outputs": [
        {
          "output_type": "error",
          "ename": "ERROR",
          "evalue": "ignored",
          "traceback": [
            "Error in library(patchwork): there is no package called ‘patchwork’\nTraceback:\n",
            "1. library(patchwork)"
          ]
        }
      ]
    },
    {
      "cell_type": "code",
      "source": [
        "plot.I <- ggplot((filter(AQ, dataset == \"I\")), mapping = aes(x=x,y=y)) + geom_point(color=\"red\")\n",
        "plot.II <- ggplot((filter(AQ, dataset == \"II\")), mapping = aes(x=x,y=y)) + geom_point(color=\"blue\")\n",
        "plot.III <- ggplot((filter(AQ, dataset == \"III\")), mapping = aes(x=x,y=y)) + geom_point(color=\"green\")\n",
        "plot.IV <- ggplot((filter(AQ, dataset == \"IV\")), mapping = aes(x=x,y=y)) + geom_point(color=\"black\")"
      ],
      "metadata": {
        "id": "XFjka3BDAK7u"
      },
      "execution_count": 40,
      "outputs": []
    },
    {
      "cell_type": "code",
      "source": [
        "dataset.I <- filter(AQ, dataset==\"I\")\n",
        "dataset.II <- filter(AQ, dataset==\"II\")\n",
        "dataset.III <- filter(AQ, dataset==\"III\")\n",
        "dataset.IV <- filter(AQ, dataset==\"IV\")"
      ],
      "metadata": {
        "id": "hJlgCMggGt8r"
      },
      "execution_count": 43,
      "outputs": []
    },
    {
      "cell_type": "code",
      "source": [
        "mean(dataset.I$x)\n",
        "mean(dataset.I$y)\n",
        "cor.test(dataset.I$x,dataset.I$y)\n",
        "lm(x~y,dataset.I)"
      ],
      "metadata": {
        "id": "129w0PQ3HB27",
        "outputId": "390fae5c-52e8-4303-9a2a-da24f29dceef",
        "colab": {
          "base_uri": "https://localhost:8080/",
          "height": 364
        }
      },
      "execution_count": 50,
      "outputs": [
        {
          "output_type": "display_data",
          "data": {
            "text/html": [
              "9"
            ],
            "text/markdown": "9",
            "text/latex": "9",
            "text/plain": [
              "[1] 9"
            ]
          },
          "metadata": {}
        },
        {
          "output_type": "display_data",
          "data": {
            "text/html": [
              "7.50090909090909"
            ],
            "text/markdown": "7.50090909090909",
            "text/latex": "7.50090909090909",
            "text/plain": [
              "[1] 7.500909"
            ]
          },
          "metadata": {}
        },
        {
          "output_type": "display_data",
          "data": {
            "text/plain": [
              "\n",
              "\tPearson's product-moment correlation\n",
              "\n",
              "data:  dataset.I$x and dataset.I$y\n",
              "t = 4.2415, df = 9, p-value = 0.00217\n",
              "alternative hypothesis: true correlation is not equal to 0\n",
              "95 percent confidence interval:\n",
              " 0.4243912 0.9506933\n",
              "sample estimates:\n",
              "      cor \n",
              "0.8164205 \n"
            ]
          },
          "metadata": {}
        },
        {
          "output_type": "display_data",
          "data": {
            "text/plain": [
              "\n",
              "Call:\n",
              "lm(formula = x ~ y, data = dataset.I)\n",
              "\n",
              "Coefficients:\n",
              "(Intercept)            y  \n",
              "    -0.9975       1.3328  \n"
            ]
          },
          "metadata": {}
        }
      ]
    },
    {
      "cell_type": "code",
      "source": [
        "mean(dataset.II$x)\n",
        "mean(dataset.II$y)\n",
        "cor.test(dataset.II$x,dataset.II$y)\n",
        "lm(x~y,dataset.II)"
      ],
      "metadata": {
        "id": "8QL_Tk-jH4MX",
        "outputId": "2cd55102-6980-4b9c-9a70-a193d2a7c13a",
        "colab": {
          "base_uri": "https://localhost:8080/",
          "height": 364
        }
      },
      "execution_count": 51,
      "outputs": [
        {
          "output_type": "display_data",
          "data": {
            "text/html": [
              "9"
            ],
            "text/markdown": "9",
            "text/latex": "9",
            "text/plain": [
              "[1] 9"
            ]
          },
          "metadata": {}
        },
        {
          "output_type": "display_data",
          "data": {
            "text/html": [
              "7.50090909090909"
            ],
            "text/markdown": "7.50090909090909",
            "text/latex": "7.50090909090909",
            "text/plain": [
              "[1] 7.500909"
            ]
          },
          "metadata": {}
        },
        {
          "output_type": "display_data",
          "data": {
            "text/plain": [
              "\n",
              "\tPearson's product-moment correlation\n",
              "\n",
              "data:  dataset.II$x and dataset.II$y\n",
              "t = 4.2386, df = 9, p-value = 0.002179\n",
              "alternative hypothesis: true correlation is not equal to 0\n",
              "95 percent confidence interval:\n",
              " 0.4239389 0.9506402\n",
              "sample estimates:\n",
              "      cor \n",
              "0.8162365 \n"
            ]
          },
          "metadata": {}
        },
        {
          "output_type": "display_data",
          "data": {
            "text/plain": [
              "\n",
              "Call:\n",
              "lm(formula = x ~ y, data = dataset.II)\n",
              "\n",
              "Coefficients:\n",
              "(Intercept)            y  \n",
              "    -0.9948       1.3325  \n"
            ]
          },
          "metadata": {}
        }
      ]
    },
    {
      "cell_type": "code",
      "source": [
        "mean(dataset.III$x)\n",
        "mean(dataset.III$y)\n",
        "cor.test(dataset.III$x,dataset.III$y)\n",
        "lm(x~y,dataset.III)"
      ],
      "metadata": {
        "id": "P3RmbshdH9Nr",
        "outputId": "ec15a578-4ee7-4f49-c122-179559d9913f",
        "colab": {
          "base_uri": "https://localhost:8080/",
          "height": 364
        }
      },
      "execution_count": 52,
      "outputs": [
        {
          "output_type": "display_data",
          "data": {
            "text/html": [
              "9"
            ],
            "text/markdown": "9",
            "text/latex": "9",
            "text/plain": [
              "[1] 9"
            ]
          },
          "metadata": {}
        },
        {
          "output_type": "display_data",
          "data": {
            "text/html": [
              "7.5"
            ],
            "text/markdown": "7.5",
            "text/latex": "7.5",
            "text/plain": [
              "[1] 7.5"
            ]
          },
          "metadata": {}
        },
        {
          "output_type": "display_data",
          "data": {
            "text/plain": [
              "\n",
              "\tPearson's product-moment correlation\n",
              "\n",
              "data:  dataset.III$x and dataset.III$y\n",
              "t = 4.2394, df = 9, p-value = 0.002176\n",
              "alternative hypothesis: true correlation is not equal to 0\n",
              "95 percent confidence interval:\n",
              " 0.4240623 0.9506547\n",
              "sample estimates:\n",
              "      cor \n",
              "0.8162867 \n"
            ]
          },
          "metadata": {}
        },
        {
          "output_type": "display_data",
          "data": {
            "text/plain": [
              "\n",
              "Call:\n",
              "lm(formula = x ~ y, data = dataset.III)\n",
              "\n",
              "Coefficients:\n",
              "(Intercept)            y  \n",
              "     -1.000        1.333  \n"
            ]
          },
          "metadata": {}
        }
      ]
    },
    {
      "cell_type": "code",
      "source": [
        "mean(dataset.IV$x)\n",
        "mean(dataset.IV$y)\n",
        "cor.test(dataset.IV$x,dataset.IV$y)\n",
        "lm(x~y,dataset.IV)"
      ],
      "metadata": {
        "id": "MHAs-2wOIEYj",
        "outputId": "9089e1a6-5396-4be9-ccdd-32153dbe0174",
        "colab": {
          "base_uri": "https://localhost:8080/",
          "height": 364
        }
      },
      "execution_count": 53,
      "outputs": [
        {
          "output_type": "display_data",
          "data": {
            "text/html": [
              "9"
            ],
            "text/markdown": "9",
            "text/latex": "9",
            "text/plain": [
              "[1] 9"
            ]
          },
          "metadata": {}
        },
        {
          "output_type": "display_data",
          "data": {
            "text/html": [
              "7.50090909090909"
            ],
            "text/markdown": "7.50090909090909",
            "text/latex": "7.50090909090909",
            "text/plain": [
              "[1] 7.500909"
            ]
          },
          "metadata": {}
        },
        {
          "output_type": "display_data",
          "data": {
            "text/plain": [
              "\n",
              "\tPearson's product-moment correlation\n",
              "\n",
              "data:  dataset.IV$x and dataset.IV$y\n",
              "t = 4.243, df = 9, p-value = 0.002165\n",
              "alternative hypothesis: true correlation is not equal to 0\n",
              "95 percent confidence interval:\n",
              " 0.4246394 0.9507224\n",
              "sample estimates:\n",
              "      cor \n",
              "0.8165214 \n"
            ]
          },
          "metadata": {}
        },
        {
          "output_type": "display_data",
          "data": {
            "text/plain": [
              "\n",
              "Call:\n",
              "lm(formula = x ~ y, data = dataset.IV)\n",
              "\n",
              "Coefficients:\n",
              "(Intercept)            y  \n",
              "     -1.004        1.334  \n"
            ]
          },
          "metadata": {}
        }
      ]
    }
  ]
}