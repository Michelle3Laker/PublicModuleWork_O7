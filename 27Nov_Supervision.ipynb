{
  "nbformat": 4,
  "nbformat_minor": 0,
  "metadata": {
    "colab": {
      "provenance": [],
      "authorship_tag": "ABX9TyPi+OU+wwnqD85G0bWzpLKz",
      "include_colab_link": true
    },
    "kernelspec": {
      "name": "python3",
      "display_name": "Python 3"
    },
    "language_info": {
      "name": "python"
    }
  },
  "cells": [
    {
      "cell_type": "markdown",
      "metadata": {
        "id": "view-in-github",
        "colab_type": "text"
      },
      "source": [
        "<a href=\"https://colab.research.google.com/github/Michelle3Laker/PublicModuleWork_O7/blob/main/27Nov_Supervision.ipynb\" target=\"_parent\"><img src=\"https://colab.research.google.com/assets/colab-badge.svg\" alt=\"Open In Colab\"/></a>"
      ]
    },
    {
      "cell_type": "code",
      "execution_count": null,
      "metadata": {
        "colab": {
          "base_uri": "https://localhost:8080/"
        },
        "id": "mQUPbbMog8A8",
        "outputId": "612b26d7-9d46-4afc-edb0-ce65646108d3"
      },
      "outputs": [
        {
          "output_type": "stream",
          "name": "stdout",
          "text": [
            "Hello world\n"
          ]
        }
      ],
      "source": [
        "# Instruction: run this cell!\n",
        "print('Hello world')"
      ]
    },
    {
      "cell_type": "code",
      "source": [
        "print(\"My name is Laker\")"
      ],
      "metadata": {
        "colab": {
          "base_uri": "https://localhost:8080/"
        },
        "id": "Na_ky_iFhaQ2",
        "outputId": "27302e70-e0d5-4f57-8386-e8dd2ecd1872"
      },
      "execution_count": null,
      "outputs": [
        {
          "output_type": "stream",
          "name": "stdout",
          "text": [
            "My name is Laker\n"
          ]
        }
      ]
    },
    {
      "cell_type": "code",
      "source": [
        "print(\"Canis lupus familiaris\")"
      ],
      "metadata": {
        "colab": {
          "base_uri": "https://localhost:8080/"
        },
        "id": "aDn8DgYqhfpB",
        "outputId": "ce5681e7-93ac-4875-a085-b7de9b5b03ec"
      },
      "execution_count": null,
      "outputs": [
        {
          "output_type": "stream",
          "name": "stdout",
          "text": [
            "Canis lupus familiaris\n"
          ]
        }
      ]
    },
    {
      "cell_type": "code",
      "source": [
        "# This is a little interactive quiz\n",
        "correct = 'rhino'\n",
        "clues = ['It is grey.', 'It has a horn.', 'It is never seen in Cambridge',\n",
        "         'There are five species White, Black, Javan, Sumatran and Indian',\n",
        "         'Name starts with \"R\"', 'Name ends with \"O\"',\n",
        "         'Was the subject of a famous print by Albrecht Dürer']\n",
        "while(clues):\n",
        "    answer = input(\"What animal is Anglia Ruskin's mascot?> \")\n",
        "    answer = answer.lower()\n",
        "    if answer == correct:\n",
        "        print('Well done!', correct.capitalize(), 'is the correct answer.')\n",
        "        break;\n",
        "    else:\n",
        "        clue = clues.pop(0) # remove the first clue\n",
        "        print('Wrong! Here is a clue: \"' + clue + '\". Try again!')\n",
        "if not clues:\n",
        "    print('Sorry GAME OVER to many trys!')\n",
        "    print('The answer is', correct.upper() + '!')"
      ],
      "metadata": {
        "colab": {
          "base_uri": "https://localhost:8080/"
        },
        "id": "LuRI15xEhuHY",
        "outputId": "200a6978-35ce-4cee-be0e-b6d7d3d9e404"
      },
      "execution_count": null,
      "outputs": [
        {
          "output_type": "stream",
          "name": "stdout",
          "text": [
            "What animal is Anglia Ruskin's mascot?> Flamingo\n",
            "Wrong! Here is a clue: \"It is grey.\". Try again!\n",
            "What animal is Anglia Ruskin's mascot?> Rhino\n",
            "Well done! Rhino is the correct answer.\n"
          ]
        }
      ]
    },
    {
      "cell_type": "code",
      "source": [
        "# you can get images from the web in Python and display them\n",
        "from IPython.display import Image\n",
        "from IPython.core.display import HTML\n",
        "durer_rhino_url = 'https://upload.wikimedia.org/wikipedia/commons/thumb/b/bc/' \\\n",
        "                  'The_Rhinoceros_%28NGA_1964.8.697%29_enhanced.png/' \\\n",
        "                  '304px-The_Rhinoceros_%28NGA_1964.8.697%29_enhanced.png'\n",
        "Image(url= durer_rhino_url)"
      ],
      "metadata": {
        "colab": {
          "base_uri": "https://localhost:8080/",
          "height": 261
        },
        "id": "1KfYlQjhiEec",
        "outputId": "14b21ee4-311d-4c09-87d4-30656d93a8a8"
      },
      "execution_count": null,
      "outputs": [
        {
          "output_type": "execute_result",
          "data": {
            "text/html": [
              "<img src=\"https://upload.wikimedia.org/wikipedia/commons/thumb/b/bc/The_Rhinoceros_%28NGA_1964.8.697%29_enhanced.png/304px-The_Rhinoceros_%28NGA_1964.8.697%29_enhanced.png\"/>"
            ],
            "text/plain": [
              "<IPython.core.display.Image object>"
            ]
          },
          "metadata": {},
          "execution_count": 5
        }
      ]
    },
    {
      "cell_type": "code",
      "source": [
        "print(\"This line will print my name! My name is Laker\")"
      ],
      "metadata": {
        "colab": {
          "base_uri": "https://localhost:8080/"
        },
        "id": "baUOHHXyiV2P",
        "outputId": "bd4d0bcf-2acf-4fe2-88ed-2bf883a32120"
      },
      "execution_count": null,
      "outputs": [
        {
          "output_type": "stream",
          "name": "stdout",
          "text": [
            "This line will print my name! My name is Laker\n"
          ]
        }
      ]
    },
    {
      "cell_type": "code",
      "source": [
        "AQ <- read.csv(\"https://raw.githubusercontent.com/camgenomicmedicine/GMO7-Jupyter/main/data/anscombe-quartet.csv\")"
      ],
      "metadata": {
        "id": "4rs7AKYktDOS",
        "outputId": "a5252711-9f9f-49c3-ff08-04360bd2f81e",
        "colab": {
          "base_uri": "https://localhost:8080/",
          "height": 193
        }
      },
      "execution_count": null,
      "outputs": [
        {
          "output_type": "error",
          "ename": "NameError",
          "evalue": "ignored",
          "traceback": [
            "\u001b[0;31m---------------------------------------------------------------------------\u001b[0m",
            "\u001b[0;31mNameError\u001b[0m                                 Traceback (most recent call last)",
            "\u001b[0;32m<ipython-input-11-581d5d992728>\u001b[0m in \u001b[0;36m<cell line: 1>\u001b[0;34m()\u001b[0m\n\u001b[0;32m----> 1\u001b[0;31m \u001b[0mAQ\u001b[0m \u001b[0;34m<\u001b[0m\u001b[0;34m-\u001b[0m \u001b[0mread\u001b[0m\u001b[0;34m.\u001b[0m\u001b[0mcsv\u001b[0m\u001b[0;34m(\u001b[0m\u001b[0;34m\"https://raw.githubusercontent.com/camgenomicmedicine/GMO7-Jupyter/main/data/anscombe-quartet.csv\"\u001b[0m\u001b[0;34m)\u001b[0m\u001b[0;34m\u001b[0m\u001b[0;34m\u001b[0m\u001b[0m\n\u001b[0m",
            "\u001b[0;31mNameError\u001b[0m: name 'AQ' is not defined"
          ]
        }
      ]
    }
  ]
}